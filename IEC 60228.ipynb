{
 "cells": [
  {
   "cell_type": "code",
   "execution_count": 1,
   "metadata": {
    "scrolled": true
   },
   "outputs": [
    {
     "name": "stdout",
     "output_type": "stream",
     "text": [
      "0.727\n",
      "(61.0, 0.0754)\n",
      "(0.51, 0.0801)\n",
      "0.41\n",
      "0.98\n"
     ]
    }
   ],
   "source": [
    "#Tables\n",
    "\n",
    "import pandas as pd\n",
    "with pd.ExcelFile(\"IEC60228.xlsx\") as xls:\n",
    "    _table1 = pd.read_excel(xls, \"table1\", skiprows=6, dtype='string', header=None, names=[1,2,3,4])\n",
    "    _table2 = pd.read_excel(xls, \"table2\", skiprows=6, dtype='string', header=None, names=[1,2,3,4,5,6,7,8,9,10])\n",
    "    _table3 = pd.read_excel(xls, \"table3\", skiprows=5, dtype='string', header=None, names=[1,2,3,4])\n",
    "    _table4 = pd.read_excel(xls, \"table4\", skiprows=5, dtype='string', header=None, names=[1,2,3,4])\n",
    "    _table5 = pd.read_excel(xls, \"table5\", skiprows=3, dtype='string', header=None, names=[1,2])\n",
    "    \n",
    "def table1(csa=\"none\", conductor=\"none\", type=\"none\"):\n",
    "    try:\n",
    "        if {\"Cu\":\"Cu\", \"Al\":\"Al\"}[conductor]==\"Cu\":\n",
    "            try:\n",
    "                _column={\"plain\":2, \"metal-coat\":3, \"none\":\"nan\"}[type]\n",
    "            except:\n",
    "                raise\n",
    "        else:\n",
    "            _column=4\n",
    "    except:\n",
    "        raise \n",
    "    _param_csa=dict(zip(_table1.iloc[:][1],range(len(_table1.iloc[:][1]))))\n",
    "    try:\n",
    "        _row=_param_csa[csa]\n",
    "    except:\n",
    "        if csa==\"none\":\n",
    "            _row=\"nan\"\n",
    "        else:\n",
    "            raise \n",
    "    if _row==\"nan\" or _column==\"nan\":\n",
    "        return(\"nan\")\n",
    "    return(float(_table1.iloc[_row][_column]))\n",
    "\n",
    "def table2(csa=\"none\", conductor=\"none\", type=\"none\", arrangement=\"none\"):\n",
    "    try:\n",
    "        if {\"Cu\":\"Cu\", \"Al\":\"Al\"}[conductor]==\"Cu\":\n",
    "            try:\n",
    "                _res_column={\"plain\":8, \"metal-coat\":9, \"none\":\"nan\"}[type]\n",
    "            except:\n",
    "                raise\n",
    "            try:\n",
    "                _wire_column={\"compact\":2, \"non-compact\":4, \"shaped\":6, \"none\":\"nan\"}[arrangement]\n",
    "            except:\n",
    "                raise\n",
    "        else:\n",
    "            _res_column=10\n",
    "            try:\n",
    "                _wire_column={\"compact\":3, \"non-compact\":5, \"shaped\":7, \"none\":\"nan\"}[arrangement]\n",
    "            except:\n",
    "                raise\n",
    "    except:\n",
    "        raise \n",
    "    _param_csa=dict(zip(_table2.iloc[:][1],range(len(_table2.iloc[:][1]))))\n",
    "    try:\n",
    "        _row=_param_csa[csa]\n",
    "    except:\n",
    "        if csa==\"none\":\n",
    "            _row=\"nan\"\n",
    "        else:\n",
    "            raise \n",
    "    if _res_column==\"nan\" and _wire_column==\"nan\" or _row==\"nan\":\n",
    "        return(\"nan\",\"nan\")\n",
    "    if _res_column==\"nan\":\n",
    "        return(_table2.iloc[_row][_wire_column],\"nan\")    \n",
    "    if _wire_column==\"nan\":\n",
    "        return(\"nan\",_table2.iloc[_row][_res_column])   \n",
    "    return(float(_table2.iloc[_row][_wire_column]),float(_table2.iloc[_row][_res_column]))\n",
    "\n",
    "def table3(csa=\"none\", type=\"none\"):\n",
    "    try:\n",
    "        _res_column={\"plain\":3, \"metal-coat\":4, \"none\":\"nan\"}[type]\n",
    "        _wire_column=2\n",
    "    except:\n",
    "        raise\n",
    "    _param_csa=dict(zip(_table3.iloc[:][1],range(len(_table3.iloc[:][1]))))\n",
    "    try:\n",
    "        _row=_param_csa[csa]\n",
    "    except:\n",
    "        if csa==\"none\":\n",
    "            _row=\"nan\"\n",
    "        else:\n",
    "            raise \n",
    "    if _row==\"nan\":\n",
    "        return(\"nan\",\"nan\")\n",
    "    if _res_column==\"nan\":\n",
    "        return(_table3.iloc[_row][_wire_column],\"nan\")    \n",
    "    return(float(_table3.iloc[_row][_wire_column]),float(_table3.iloc[_row][_res_column]))\n",
    "\n",
    "def table4(csa=0, type=\"none\"):\n",
    "    try:\n",
    "        _res_column={\"plain\":3, \"metal-coat\":4, \"none\":\"nan\"}[type]\n",
    "        _wire_column=2\n",
    "    except:\n",
    "        raise\n",
    "    _param_csa=dict(zip(_table4.iloc[:][1],range(len(_table4.iloc[:][1]))))\n",
    "    try:\n",
    "        _row=_param_csa[csa]\n",
    "    except:\n",
    "        if csa==\"none\":\n",
    "            _row=\"nan\"\n",
    "        else:\n",
    "            raise \n",
    "    if _row==\"nan\":\n",
    "        return(\"nan\",\"nan\")\n",
    "    if _res_column==\"nan\":\n",
    "        return(_table4.iloc[_row][_wire_column],\"nan\")    \n",
    "    return(float(_table4.iloc[_row][_wire_column]),float(_table4.iloc[_row][_res_column]))\n",
    "\n",
    "def table5(temp=\"none\"):\n",
    "    _param_temp=dict(zip(_table5.iloc[:][1],range(len(_table5.iloc[:][1]))))\n",
    "    try:\n",
    "        _row=_param_temp[temp]\n",
    "    except:\n",
    "        if temp==\"none\":\n",
    "            _row=\"nan\"\n",
    "        else:\n",
    "            raise \n",
    "    if _row==\"nan\":\n",
    "        return(\"nan\")\n",
    "    return(float(_table5.iloc[_row][2]))\n",
    "    \n",
    "print(table1(csa='25',conductor=\"Cu\", type=\"plain\"))\n",
    "print(table2(csa='240',conductor=\"Cu\", type=\"plain\", arrangement=\"compact\"))\n",
    "print(table3(csa='240',type=\"plain\"))\n",
    "print(table4(csa='240',type=\"plain\")[0])\n",
    "print(table5('25'))"
   ]
  },
  {
   "cell_type": "code",
   "execution_count": 10,
   "metadata": {},
   "outputs": [
    {
     "name": "stdout",
     "output_type": "stream",
     "text": [
      "0.125\n"
     ]
    }
   ],
   "source": [
    "\n",
    "\n"
   ]
  },
  {
   "cell_type": "code",
   "execution_count": 1,
   "metadata": {
    "scrolled": true
   },
   "outputs": [
    {
     "data": {
      "text/plain": [
       "1.2"
      ]
     },
     "execution_count": 1,
     "metadata": {},
     "output_type": "execute_result"
    }
   ],
   "source": [
    "import pandas as pd\n",
    "import IEC60287 as iec\n",
    "iec.table1(csa=25,conductor=\"aluminium\")"
   ]
  },
  {
   "cell_type": "code",
   "execution_count": 10,
   "metadata": {},
   "outputs": [
    {
     "name": "stdout",
     "output_type": "stream",
     "text": [
      "   a   b\n",
      "0  0  10\n",
      "1  1  11\n",
      "2  2  12\n",
      "3  3  13\n",
      "4  4  14\n",
      "5  5  15\n",
      "6  6  16\n",
      "7  7  17\n",
      "8  8  18\n",
      "9  9  19\n"
     ]
    }
   ],
   "source": [
    "t = pd.DataFrame({'a': range(0, 10), 'b': range(10, 20)})\n",
    "print(t)"
   ]
  },
  {
   "cell_type": "code",
   "execution_count": 9,
   "metadata": {},
   "outputs": [
    {
     "name": "stdout",
     "output_type": "stream",
     "text": [
      "    Nominal Cross Section Area  copper.circular.plain  \\\n",
      "0                         0.50                 36.000   \n",
      "1                         0.75                 24.500   \n",
      "2                         1.00                 18.100   \n",
      "3                         1.50                 12.100   \n",
      "4                         2.50                  7.410   \n",
      "5                         4.00                  4.610   \n",
      "6                         6.00                  3.080   \n",
      "7                        10.00                  1.830   \n",
      "8                        16.00                  1.150   \n",
      "9                        25.00                  0.727   \n",
      "10                       35.00                  0.524   \n",
      "11                       50.00                  0.387   \n",
      "12                       70.00                  0.268   \n",
      "13                       95.00                  0.193   \n",
      "14                      120.00                  0.153   \n",
      "15                      150.00                  0.124   \n",
      "16                      185.00                    NaN   \n",
      "17                      240.00                    NaN   \n",
      "18                      300.00                    NaN   \n",
      "\n",
      "    copp/er.circular.metal-coated  aluminium  \n",
      "0                           36.70        NaN  \n",
      "1                           24.80        NaN  \n",
      "2                           18.20        NaN  \n",
      "3                           12.20     18.100  \n",
      "4                            7.56     12.100  \n",
      "5                            4.70      7.410  \n",
      "6                            3.11      4.610  \n",
      "7                            1.84      3.080  \n",
      "8                            1.16      1.910  \n",
      "9                             NaN      1.200  \n",
      "10                            NaN      0.868  \n",
      "11                            NaN      0.641  \n",
      "12                            NaN      0.443  \n",
      "13                            NaN      0.320  \n",
      "14                            NaN      0.253  \n",
      "15                            NaN      0.206  \n",
      "16                            NaN      0.164  \n",
      "17                            NaN      0.125  \n",
      "18                            NaN      0.100  \n"
     ]
    }
   ],
   "source": [
    "#Convert CSV to JSON\n",
    "import pandas as pd\n",
    "file_to_convert=\"IEC60288.table1\"\n",
    "data = pd.read_csv(file_to_convert+\".csv\")\n",
    "df = pd.DataFrame(data)\n",
    "print (df)\n",
    "df.to_json(file_to_convert+\".json\")\n",
    "           "
   ]
  },
  {
   "cell_type": "code",
   "execution_count": 14,
   "metadata": {},
   "outputs": [
    {
     "name": "stdout",
     "output_type": "stream",
     "text": [
      "1.72e-08\n",
      "1.3400000172000002\n"
     ]
    }
   ],
   "source": [
    "a=\"1.720000e-08\"\n",
    "try:\n",
    "    b=float(a)\n",
    "except: \n",
    "    pass\n",
    "print(b)\n",
    "b=b+1.34\n",
    "print(b)\n",
    "    "
   ]
  },
  {
   "cell_type": "code",
   "execution_count": null,
   "metadata": {},
   "outputs": [],
   "source": [
    "df = pd.DataFrame([[38.0, 2.0, 18.0, 22.0, 21, np.nan],[19, 439, 6, 452, 226,232]],\n",
    "                  index=pd.Index(['Tumour (Positive)', 'Non-Tumour (Negative)'], name='Actual Label:'),\n",
    "                  columns=pd.MultiIndex.from_product([['Decision Tree', 'Regression', 'Random'],['Tumour', 'Non-Tumour']], names=['Model:', 'Predicted:']))"
   ]
  },
  {
   "cell_type": "code",
   "execution_count": null,
   "metadata": {},
   "outputs": [],
   "source": [
    "#Convert CSV to JSON\n",
    "import pandas as pd\n",
    "file_to_convert=\"IEC60288.table1\"\n",
    "data = pd.read_csv(file_to_convert+\".csv\")\n",
    "df = pd.DataFrame(data)\n",
    "print (df)\n",
    "df.to_json(file_to_convert+\".json\")"
   ]
  },
  {
   "cell_type": "code",
   "execution_count": 68,
   "metadata": {},
   "outputs": [
    {
     "name": "stdout",
     "output_type": "stream",
     "text": [
      "0       0.50\n",
      "1       0.75\n",
      "2       1.00\n",
      "3       1.50\n",
      "4       2.50\n",
      "5       4.00\n",
      "6       6.00\n",
      "7      10.00\n",
      "8      16.00\n",
      "9      25.00\n",
      "10     35.00\n",
      "11     50.00\n",
      "12     70.00\n",
      "13     95.00\n",
      "14    120.00\n",
      "15    150.00\n",
      "16    185.00\n",
      "17    240.00\n",
      "18    300.00\n",
      "Name: Nominal Cross Section Area, dtype: float64\n"
     ]
    }
   ],
   "source": [
    "#print(t.columns[1])\n",
    "#print(t.iterrows())\n",
    "print(_table1.iloc(1)[0])"
   ]
  },
  {
   "cell_type": "code",
   "execution_count": 36,
   "metadata": {},
   "outputs": [
    {
     "name": "stdout",
     "output_type": "stream",
     "text": [
      "first        bar                 baz                 foo                 qux  \\\n",
      "second       one       two       one       two       one       two       one   \n",
      "A       0.335109  0.143531  0.059944 -0.502328 -1.486713  0.348504  0.448762   \n",
      "B      -2.368211 -2.397001  0.035884 -0.549483 -0.551645  1.660095 -0.894345   \n",
      "C      -0.001353  1.464487  1.192813  0.831354 -0.785317 -0.116762 -0.316818   \n",
      "\n",
      "first             \n",
      "second       two  \n",
      "A       1.686272  \n",
      "B      -0.351080  \n",
      "C      -1.517098  \n",
      "   Nominal cross-sectional area Circular copper conductors               \\\n",
      "             Unnamed: 0_level_1                      Plain Metal-coated   \n",
      "0                          0.50                         36         36.7   \n",
      "1                          0.75                       24.5         24.8   \n",
      "2                          1.00                       18.1         18.2   \n",
      "3                          1.50                       12.1         12.2   \n",
      "4                          2.50                       7.41         7.56   \n",
      "5                          4.00                       4.61          4.7   \n",
      "6                          6.00                       3.08         3.11   \n",
      "7                         10.00                       1.83         1.84   \n",
      "8                         16.00                       1.15         1.16   \n",
      "9                         25.00                      0.727            -   \n",
      "10                        35.00                      0.524            -   \n",
      "11                        50.00                      0.387            -   \n",
      "12                        70.00                      0.268            -   \n",
      "13                        95.00                      0.193            -   \n",
      "14                       120.00                      0.153            -   \n",
      "15                       150.00                      0.124            -   \n",
      "16                       185.00                          -            -   \n",
      "17                       240.00                          -            -   \n",
      "18                       300.00                          -            -   \n",
      "\n",
      "   Aluminium conductors circular or shaped, plain, metal-coated or metal-clad  \n",
      "                                                           Unnamed: 3_level_1  \n",
      "0                                                   -                          \n",
      "1                                                   -                          \n",
      "2                                                   -                          \n",
      "3                                                18.1                          \n",
      "4                                                12.1                          \n",
      "5                                                7.41                          \n",
      "6                                                4.61                          \n",
      "7                                                3.08                          \n",
      "8                                                1.91                          \n",
      "9                                                 1.2                          \n",
      "10                                              0.868                          \n",
      "11                                              0.641                          \n",
      "12                                              0.443                          \n",
      "13                                               0.32                          \n",
      "14                                              0.253                          \n",
      "15                                              0.206                          \n",
      "16                                              0.164                          \n",
      "17                                              0.125                          \n",
      "18                                                0.1                          \n"
     ]
    }
   ],
   "source": [
    "import numpy as np\n",
    "arrays = [\n",
    "    np.array([\"bar\", \"bar\", \"baz\", \"baz\", \"foo\", \"foo\", \"qux\", \"qux\"]),\n",
    "    np.array([\"one\", \"two\", \"one\", \"two\", \"one\", \"two\", \"one\", \"two\"]),\n",
    "]\n",
    "s = pd.Series(np.random.randn(8), index=arrays)\n",
    "df = pd.DataFrame(np.random.randn(8, 4), index=arrays)\n",
    "tuples = list(zip(*arrays))\n",
    "index = pd.MultiIndex.from_tuples(tuples, names=[\"first\", \"second\"])\n",
    "\n",
    "df = pd.DataFrame(np.random.randn(3, 8), index=[\"A\", \"B\", \"C\"], columns=index)\n",
    "pd.DataFrame(np.random.randn(6, 6), index=index[:6], columns=index[:6])\n",
    "print (df)\n",
    "df.to_excel(\"junk.xls\", sheet_name=\"Sheet1\")\n",
    "_table1=pd.read_excel (\"IEC60228.xlsx\",\"table1\",header=[0,1])\n",
    "print (_table1)"
   ]
  },
  {
   "cell_type": "code",
   "execution_count": 51,
   "metadata": {},
   "outputs": [
    {
     "data": {
      "text/plain": [
       "first  second\n",
       "bar    one      -0.001353\n",
       "       two       1.464487\n",
       "baz    one       1.192813\n",
       "       two       0.831354\n",
       "foo    one      -0.785317\n",
       "       two      -0.116762\n",
       "qux    one      -0.316818\n",
       "       two      -1.517098\n",
       "Name: C, dtype: float64"
      ]
     },
     "execution_count": 51,
     "metadata": {},
     "output_type": "execute_result"
    }
   ],
   "source": [
    "df.iloc[2]"
   ]
  },
  {
   "cell_type": "code",
   "execution_count": 52,
   "metadata": {},
   "outputs": [
    {
     "name": "stdout",
     "output_type": "stream",
     "text": [
      "Person Name: Andrew \n",
      "Person Age: 34 \n",
      "Person Gender: Male\n",
      "\n",
      "Person Name: Liam \n",
      "Person Age: 21 \n",
      "Person Gender: Male\n",
      "\n"
     ]
    }
   ],
   "source": [
    "class Person:\n",
    " \n",
    "  def __init__(self,name,age,gender):\n",
    "    self.name = name\n",
    "    self.age = age\n",
    "    self.gender = gender\n",
    " \n",
    "  def person_details(self):\n",
    "    print(f'Person Name: {self.name} \\nPerson Age: {self.age} \\nPerson Gender: {self.gender}\\n')\n",
    " \n",
    "person1 = Person('Andrew',34, 'Male')\n",
    "person2 = Person('Liam', 21, 'Male')\n",
    " \n",
    "person1.person_details()\n",
    "person2.person_details()"
   ]
  },
  {
   "cell_type": "code",
   "execution_count": 221,
   "metadata": {},
   "outputs": [
    {
     "ename": "KeyError",
     "evalue": "'loo7se_leaf'",
     "output_type": "error",
     "traceback": [
      "\u001b[1;31m---------------------------------------------------------------------------\u001b[0m",
      "\u001b[1;31mKeyError\u001b[0m                                  Traceback (most recent call last)",
      "\u001b[1;32m<ipython-input-221-e1e5bb8757ff>\u001b[0m in \u001b[0;36m<module>\u001b[1;34m\u001b[0m\n\u001b[0;32m      6\u001b[0m     }\n\u001b[0;32m      7\u001b[0m \u001b[1;33m\u001b[0m\u001b[0m\n\u001b[1;32m----> 8\u001b[1;33m \u001b[0mprint\u001b[0m\u001b[1;33m(\u001b[0m\u001b[0mblack_tea\u001b[0m\u001b[1;33m[\u001b[0m\u001b[1;34m'loo7se_leaf'\u001b[0m\u001b[1;33m]\u001b[0m\u001b[1;33m)\u001b[0m\u001b[1;33m\u001b[0m\u001b[1;33m\u001b[0m\u001b[0m\n\u001b[0m",
      "\u001b[1;31mKeyError\u001b[0m: 'loo7se_leaf'"
     ]
    }
   ],
   "source": [
    "black_tea = {\n",
    "    'supplier': 'Twinings',\n",
    "    'name': 'English Breakfast',\n",
    "    'boxes_in_stock': 12,\n",
    "    'loose_leaf': True\n",
    "    }\n",
    "\n",
    "print(black_tea['loo7se_leaf'])"
   ]
  },
  {
   "cell_type": "code",
   "execution_count": 199,
   "metadata": {},
   "outputs": [
    {
     "name": "stdout",
     "output_type": "stream",
     "text": [
      "range(0, 19)\n"
     ]
    }
   ],
   "source": [
    "x=range(len(_table1.iloc[:][1]))\n",
    "print(x)"
   ]
  },
  {
   "cell_type": "code",
   "execution_count": 202,
   "metadata": {},
   "outputs": [
    {
     "name": "stdout",
     "output_type": "stream",
     "text": [
      "range(0, 5)\n"
     ]
    }
   ],
   "source": [
    "keys=range(5)\n",
    "print(keys)"
   ]
  },
  {
   "cell_type": "code",
   "execution_count": null,
   "metadata": {},
   "outputs": [],
   "source": []
  }
 ],
 "metadata": {
  "kernelspec": {
   "display_name": "Python 3 (ipykernel)",
   "language": "python",
   "name": "python3"
  },
  "language_info": {
   "codemirror_mode": {
    "name": "ipython",
    "version": 3
   },
   "file_extension": ".py",
   "mimetype": "text/x-python",
   "name": "python",
   "nbconvert_exporter": "python",
   "pygments_lexer": "ipython3",
   "version": "3.9.12"
  }
 },
 "nbformat": 4,
 "nbformat_minor": 2
}
